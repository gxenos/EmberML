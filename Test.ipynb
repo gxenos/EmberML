{
 "cells": [
  {
   "cell_type": "markdown",
   "metadata": {},
   "source": [
    "# Dataset\n",
    "\n",
    "**EMBER** Dataset: Περιέχει εξαγμένα δεδομένα απο στατική ανάλυση 1.1 εκατομμυρίων samples binary αρχείων για Windows(PE files).\n",
    "<br>Συγκεκριμένα περιέχει 2 datasets:\n",
    "1. Training File **900K samples** με 300K malicious, 300K benign, 300K unlabeled\n",
    "2. Test File **200K samples** με 100K malicious, 100K benign\n",
    "\n",
    "https://arxiv.org/pdf/1804.04637.pdf\n",
    "\n",
    "Τα δεδομένα βρίσκονται σε 7 jsonl αρχεία συνολικού μεγέθους 9.8GB, περιέχουν raw δεδομένα τα οποία χρειάζονται προετοιμασία (vectorization) πριν να μπορέσουν να χρησιμοποιηθούν για model training.<br>\n",
    "Παρέχεται όμως συμπληρωματικός κώδικας που κάνει vectorization καθώς και κώδικας για κατασκευή μοντέλων."
   ]
  },
  {
   "cell_type": "markdown",
   "metadata": {},
   "source": [
    "# Pre-Processing\n",
    "\n",
    "Ακολούθησα την παρακάτω διαδικασία:\n",
    "- **Script για επεξεργασία των training jsonl αρχείων ώς εξής:**\n",
    "  1. Διαγραφή των unlabeled δεδομένων\n",
    "  2. Shuffle των δεδομένων ώστε να υπάρχει κάποιο balance σε malware και benign δεδομένων\n",
    "  3. Εξαγωγή συγκεκριμένου αριθμού δεδομένων, για να μπορώ να κάνω testing σε μικρό όγκο δεδομένων\n",
    " <br><br>\n",
    "- **Αντίστοιχο script για επεξεργασία των testing jsonl αρχείων**\n",
    "<br><br>\n",
    "- **Αλλαγή του κώδικα του library που παρέχεται για το vectorization**\n",
    "<br>Το function του vectorization που παρέχεται έχει πολύ standardized process και άρα η αλλαγή του κώδικα είναι απαραίτητη για να δουλεύει για τα custom αρχεία που φτιάχω παραπάνω.\n",
    "<br>Παρακάτω φαίνεται η διαδικασία εισαγωγής των δεδομένων που παράχθηκαν παραπάνω για model training:\n",
    "  "
   ]
  },
  {
   "cell_type": "code",
   "execution_count": 1,
   "metadata": {},
   "outputs": [],
   "source": [
    "## IMPORTS\n",
    "import numpy as np\n",
    "import pandas as pd\n",
    "import os\n",
    "from IPython.display import display\n",
    "import matplotlib.pyplot as plt\n",
    "from sklearn import tree\n",
    "from sklearn.metrics import r2_score\n",
    "from sklearn.metrics import accuracy_score\n",
    "import graphviz"
   ]
  },
  {
   "cell_type": "code",
   "execution_count": 2,
   "metadata": {},
   "outputs": [],
   "source": [
    "## DATA IMPORTS\n",
    "train_size = 100000\n",
    "test_size = 40000\n",
    "columns = 2351\n",
    "\n",
    "path = \"./data\"\n",
    "\n",
    "x_train = np.memmap(path+\"/X_train.dat\", dtype=np.float32, mode=\"r\", shape=(train_size, 2351))\n",
    "y_train = np.memmap(path+\"/y_train.dat\", dtype=np.float32, mode=\"r\", shape=train_size)\n",
    "\n",
    "x_validation = x_train[70000:90000]\n",
    "y_validation = y_train[70000:90000]\n",
    "\n",
    "x_train = x_train[:40000]\n",
    "y_train = y_train[:40000]\n",
    "\n",
    "x_test = np.memmap(path+\"/X_test.dat\", dtype=np.float32, mode=\"r\", shape=(test_size, 2351))\n",
    "y_test = np.memmap(path+\"/y_test.dat\", dtype=np.float32, mode=\"r\", shape=test_size)"
   ]
  },
  {
   "cell_type": "markdown",
   "metadata": {},
   "source": [
    "# Δεδομένα\n",
    "\n",
    "Έχω φτιάξει 2 αρχεια, 1 για training και 1 για testing.\n",
    "<br>\n",
    "Για training χρησιμοποιώ 40Κ samples και για testing επίσης 40Κ samples.\n",
    "<br>\n",
    "Για να αποφύγω το overfitting χρησιμοποιώ ένα ανεξάρτητο μέρος του training set για validation set με μέγεθος 20Κ samples.\n",
    "<br>\n",
    "Το κάθε sample(row) αποτελείται απο 2351 features(columns):\n",
    "- ByteHistogram (256 columns, Byte histogram (count + non-normalized) over the entire binary file)\n",
    "- ByteEntropyHistogram (256 columns, byte/entropy histogram, This roughly approximates the joint probability of byte value and local entropy.)\n",
    "- SectionInfo (255 columns, Information about section names, sizes and entropy.)\n",
    "- ImportsInfo (1280 columns, Information about imported libraries and functions from the import address table.)\n",
    "- ExportsInfo (128 columns, Information about exported functions)\n",
    "- GeneralFileInfo (10 columns, General information about the file)\n",
    "- HeaderFileInfo (62 columns, Machine, architecure, OS, linker and other information)\n",
    "- StringExtractor (104 columns, Extracted strings from raw byte stream)\n"
   ]
  },
  {
   "cell_type": "code",
   "execution_count": 6,
   "metadata": {},
   "outputs": [
    {
     "name": "stdout",
     "output_type": "stream",
     "text": [
      "Training set size: 40000, Validation set size: 20000, Test set size: 40000.\n"
     ]
    }
   ],
   "source": [
    "print(f\"Training set size: {len(y_train)}, Validation set size: {len(y_validation)}, Test set size: {len(y_test)}.\")"
   ]
  },
  {
   "cell_type": "markdown",
   "metadata": {},
   "source": [
    "# Model Training - Decision Tree Classifier\n",
    "\n",
    "Επέλεξα να δοκιμάσω να κάνω train ένα **decision tree** σαν εισαγωγή για να χρησιμοποιήσω τα αποτελέσματα σαν benchmark για πίο περίπλοκους αλγόριθμους που βασίζονται σε πολλαπλά δέντρα αποφάσεων.\n",
    "<br>\n",
    "Decision Trees (DTs) are a non-parametric supervised learning method used for classification and regression. The goal is to create a model that predicts the value of a target variable by learning simple decision rules inferred from the data features.\n",
    "<br>\n",
    "https://scikit-learn.org/stable/modules/tree.html"
   ]
  },
  {
   "cell_type": "code",
   "execution_count": 9,
   "metadata": {},
   "outputs": [
    {
     "name": "stdout",
     "output_type": "stream",
     "text": [
      "CPU times: user 2min 20s, sys: 72 ms, total: 2min 21s\n",
      "Wall time: 2min 21s\n",
      " Accuracy on validation set: 0.96055\n"
     ]
    }
   ],
   "source": [
    "model = tree.DecisionTreeClassifier()\n",
    "%time model.fit(x_train, y_train)\n",
    "print(f\" Accuracy on validation set: {model.score(x_validation, y_validation)}\")"
   ]
  },
  {
   "cell_type": "markdown",
   "metadata": {},
   "source": [
    "# Parameter Optimization\n",
    "Τεστάρω διαφορετικές τιμές για τις παραμέτρους του αλγορίθμου για βελτιστοποίηση. \n",
    "<br>Η βελτιστοποίηση αποτελέιται απο:\n",
    "- Καλύτερο **accuracy** (στο validation set και τελικά στο test set).\n",
    "- Μικρότερο **running time** του αλγορίθμου.\n",
    "\n",
    "Οι παράμετροι που τεστάρω είναι οι ακόλουθες:\n",
    "1. max_depths, Περιορίζει πόσο βαθύ μπορεί να είναι το δέντρο. \n",
    "   - Μικρές τιμές οδηγούν:\n",
    "       - Mικρότερο running time\n",
    "       - Χειρότερο accuracy\n",
    "   - Μεγάλες τιμές οδηγούν:\n",
    "        - Μεγαλύτερο running time\n",
    "        - Καλύτερο accuracy\n",
    "        - Πιθανότητα ωστόσο για overfitting στα training data."
   ]
  },
  {
   "cell_type": "code",
   "execution_count": 10,
   "metadata": {},
   "outputs": [
    {
     "name": "stdout",
     "output_type": "stream",
     "text": [
      "CPU times: user 3.47 s, sys: 4 µs, total: 3.47 s\n",
      "Wall time: 3.47 s\n",
      "CPU times: user 6.84 s, sys: 0 ns, total: 6.84 s\n",
      "Wall time: 6.84 s\n",
      "CPU times: user 17.5 s, sys: 0 ns, total: 17.5 s\n",
      "Wall time: 17.5 s\n",
      "CPU times: user 31.5 s, sys: 0 ns, total: 31.5 s\n",
      "Wall time: 31.5 s\n",
      "CPU times: user 55 s, sys: 0 ns, total: 55 s\n",
      "Wall time: 55 s\n",
      "CPU times: user 1min 45s, sys: 3.96 ms, total: 1min 45s\n",
      "Wall time: 1min 45s\n",
      "CPU times: user 2min 18s, sys: 0 ns, total: 2min 18s\n",
      "Wall time: 2min 18s\n",
      "CPU times: user 2min 32s, sys: 0 ns, total: 2min 32s\n",
      "Wall time: 2min 32s\n",
      "CPU times: user 2min 19s, sys: 0 ns, total: 2min 19s\n",
      "Wall time: 2min 19s\n",
      "CPU times: user 2min 15s, sys: 0 ns, total: 2min 15s\n",
      "Wall time: 2min 15s\n",
      "CPU times: user 2min 17s, sys: 136 ms, total: 2min 17s\n",
      "Wall time: 2min 17s\n",
      "CPU times: user 2min 30s, sys: 200 ms, total: 2min 30s\n",
      "Wall time: 2min 30s\n"
     ]
    },
    {
     "data": {
      "text/plain": [
       "[<matplotlib.lines.Line2D at 0x7fec7e452358>]"
      ]
     },
     "execution_count": 10,
     "metadata": {},
     "output_type": "execute_result"
    },
    {
     "data": {
      "image/png": "[encoded data removed]",
      "text/plain": [
       "<Figure size 800x640 with 1 Axes>"
      ]
     },
     "metadata": {},
     "output_type": "display_data"
    }
   ],
   "source": [
    "max_depths = [1, 2, 5, 10, 20, 50, 100, 250, 500, 1000, 2000, 10000]\n",
    "scores = []\n",
    "for depth in max_depths:\n",
    "    model = tree.DecisionTreeClassifier(max_depth=depth)\n",
    "    %time model.fit(x_train, y_train)\n",
    "    scores.append(model.score(x_validation, y_validation))\n",
    "fig=plt.figure(figsize=(10, 8), dpi= 80, facecolor='w', edgecolor='k')\n",
    "plt.plot(max_depths, scores)"
   ]
  },
  {
   "cell_type": "code",
   "execution_count": null,
   "metadata": {},
   "outputs": [],
   "source": []
  }
 ],
 "metadata": {
  "kernelspec": {
   "display_name": "Python 3",
   "language": "python",
   "name": "python3"
  },
  "language_info": {
   "codemirror_mode": {
    "name": "ipython",
    "version": 3
   },
   "file_extension": ".py",
   "mimetype": "text/x-python",
   "name": "python",
   "nbconvert_exporter": "python",
   "pygments_lexer": "ipython3",
   "version": "3.7.1"
  }
 },
 "nbformat": 4,
 "nbformat_minor": 2
}
